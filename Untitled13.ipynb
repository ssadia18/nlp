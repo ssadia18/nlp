{
  "nbformat": 4,
  "nbformat_minor": 0,
  "metadata": {
    "colab": {
      "provenance": [],
      "authorship_tag": "ABX9TyMk7EjIHMDFjiBy9EDkwh1V",
      "include_colab_link": true
    },
    "kernelspec": {
      "name": "python3",
      "display_name": "Python 3"
    },
    "language_info": {
      "name": "python"
    }
  },
  "cells": [
    {
      "cell_type": "markdown",
      "metadata": {
        "id": "view-in-github",
        "colab_type": "text"
      },
      "source": [
        "<a href=\"https://colab.research.google.com/github/ssadia18/nlp/blob/main/Untitled13.ipynb\" target=\"_parent\"><img src=\"https://colab.research.google.com/assets/colab-badge.svg\" alt=\"Open In Colab\"/></a>"
      ]
    },
    {
      "cell_type": "code",
      "execution_count": null,
      "metadata": {
        "colab": {
          "base_uri": "https://localhost:8080/"
        },
        "id": "mx7nLEoaWRYp",
        "outputId": "20cb526a-105b-4b57-ba42-1ccddd908b4f"
      },
      "outputs": [
        {
          "output_type": "stream",
          "name": "stdout",
          "text": [
            "['', 'children', \"shouldn't\", 'as', 'one', 'word', 'drink', 'a', 'sugary', 'drink', 'before', 'bed.']\n"
          ]
        }
      ],
      "source": [
        "text11=\" children shouldn't as one word drink a sugary drink before bed.\"\n",
        "print(text11 . split(' '))"
      ]
    },
    {
      "cell_type": "code",
      "source": [
        "import nltk\n",
        "nltk.download('punkt')\n",
        "a=nltk.word_tokenize(text11)\n",
        "print(a)"
      ],
      "metadata": {
        "colab": {
          "base_uri": "https://localhost:8080/"
        },
        "id": "EPy6O152W0u0",
        "outputId": "4448946f-928e-4839-c1f3-c4591862fa3b"
      },
      "execution_count": 40,
      "outputs": [
        {
          "output_type": "stream",
          "name": "stdout",
          "text": [
            "['children', 'should', \"n't\", 'as', 'one', 'word', 'drink', 'a', 'sugary', 'drink', 'before', 'bed', '.']\n"
          ]
        },
        {
          "output_type": "stream",
          "name": "stderr",
          "text": [
            "[nltk_data] Downloading package punkt to /root/nltk_data...\n",
            "[nltk_data]   Package punkt is already up-to-date!\n"
          ]
        }
      ]
    },
    {
      "cell_type": "code",
      "source": [
        "text12=\"this is the first sentence. This is second. This is third\"\n",
        "nltk.sent_tokenize(text12)"
      ],
      "metadata": {
        "colab": {
          "base_uri": "https://localhost:8080/"
        },
        "id": "nMc7qmvoXHAx",
        "outputId": "53fe57b0-cd67-4d55-df71-b7f050ef30f8"
      },
      "execution_count": 41,
      "outputs": [
        {
          "output_type": "execute_result",
          "data": {
            "text/plain": [
              "['this is the first sentence.', 'This is second.', 'This is third']"
            ]
          },
          "metadata": {},
          "execution_count": 41
        }
      ]
    },
    {
      "cell_type": "code",
      "source": [
        "text3 = \"List, Listed, lists, listing, listings\"\n",
        "w = text3.lower().split(',')\n",
        "print(w)"
      ],
      "metadata": {
        "colab": {
          "base_uri": "https://localhost:8080/"
        },
        "id": "NQg-SH6Sbbcu",
        "outputId": "f7eca93c-7278-4fb6-9a04-1b4f0f48dc01"
      },
      "execution_count": 42,
      "outputs": [
        {
          "output_type": "stream",
          "name": "stdout",
          "text": [
            "['list', ' listed', ' lists', ' listing', ' listings']\n"
          ]
        }
      ]
    },
    {
      "cell_type": "code",
      "source": [
        "p=nltk.PorterStemmer()\n",
        "[p.stem(t)for t in w]"
      ],
      "metadata": {
        "id": "qowwAGV9b-6F",
        "outputId": "2432f2cc-bb99-4405-9da9-2c43c0013661",
        "colab": {
          "base_uri": "https://localhost:8080/"
        }
      },
      "execution_count": 43,
      "outputs": [
        {
          "output_type": "execute_result",
          "data": {
            "text/plain": [
              "['list', ' list', ' list', ' list', ' list']"
            ]
          },
          "metadata": {},
          "execution_count": 43
        }
      ]
    },
    {
      "cell_type": "code",
      "source": [
        "nltk.download('wordnet')\n",
        "l=nltk.WordNetLemmatizer()\n",
        "[l.lemmatize(t) for t in w]"
      ],
      "metadata": {
        "id": "vY0dayTvdx1U",
        "outputId": "67eed30a-c31f-43f2-bf5c-3fa782fa692f",
        "colab": {
          "base_uri": "https://localhost:8080/"
        }
      },
      "execution_count": 44,
      "outputs": [
        {
          "output_type": "stream",
          "name": "stderr",
          "text": [
            "[nltk_data] Downloading package wordnet to /root/nltk_data...\n",
            "[nltk_data]   Package wordnet is already up-to-date!\n"
          ]
        },
        {
          "output_type": "execute_result",
          "data": {
            "text/plain": [
              "['list', ' listed', ' lists', ' listing', ' listings']"
            ]
          },
          "metadata": {},
          "execution_count": 44
        }
      ]
    },
    {
      "cell_type": "code",
      "source": [
        "nltk.download('udhr')\n",
        "udhr=nltk.corpus.udhr.words('English-Latin1')\n",
        "print(udhr[:10])"
      ],
      "metadata": {
        "id": "WNoP4ed4fP7J",
        "outputId": "b8bb2f94-b9a2-4133-b375-37dbbb399371",
        "colab": {
          "base_uri": "https://localhost:8080/"
        }
      },
      "execution_count": 45,
      "outputs": [
        {
          "output_type": "stream",
          "name": "stdout",
          "text": [
            "['Universal', 'Declaration', 'of', 'Human', 'Rights', 'Preamble', 'Whereas', 'recognition', 'of', 'the']\n"
          ]
        },
        {
          "output_type": "stream",
          "name": "stderr",
          "text": [
            "[nltk_data] Downloading package udhr to /root/nltk_data...\n",
            "[nltk_data]   Package udhr is already up-to-date!\n"
          ]
        }
      ]
    },
    {
      "cell_type": "code",
      "source": [
        "u=nltk.PorterStemmer()\n",
        "[u.stem(t) for t in udhr[:10]]"
      ],
      "metadata": {
        "id": "0l2l5I0QldU4",
        "outputId": "5df7b2f1-7078-480c-ed59-efdb0dfca485",
        "colab": {
          "base_uri": "https://localhost:8080/"
        }
      },
      "execution_count": 46,
      "outputs": [
        {
          "output_type": "execute_result",
          "data": {
            "text/plain": [
              "['univers',\n",
              " 'declar',\n",
              " 'of',\n",
              " 'human',\n",
              " 'right',\n",
              " 'preambl',\n",
              " 'wherea',\n",
              " 'recognit',\n",
              " 'of',\n",
              " 'the']"
            ]
          },
          "metadata": {},
          "execution_count": 46
        }
      ]
    },
    {
      "cell_type": "code",
      "source": [
        "h=nltk.WordNetLemmatizer()\n",
        "[h.lemmatize(t) for t in udhr[:10]]"
      ],
      "metadata": {
        "id": "F0r5BfUanA_R",
        "outputId": "069887d7-e969-458c-b3ef-2e38a5c55401",
        "colab": {
          "base_uri": "https://localhost:8080/"
        }
      },
      "execution_count": 47,
      "outputs": [
        {
          "output_type": "execute_result",
          "data": {
            "text/plain": [
              "['Universal',\n",
              " 'Declaration',\n",
              " 'of',\n",
              " 'Human',\n",
              " 'Rights',\n",
              " 'Preamble',\n",
              " 'Whereas',\n",
              " 'recognition',\n",
              " 'of',\n",
              " 'the']"
            ]
          },
          "metadata": {},
          "execution_count": 47
        }
      ]
    },
    {
      "cell_type": "code",
      "source": [
        "import nltk\n",
        "from nltk import word_tokenize\n",
        "nltk.download('averaged_perceptron_tagger')\n",
        "tok= \" children shouldn't as one word drink a sugary drink before bed.\"\n",
        "to=word_tokenize(tok)\n",
        "n=nltk.pos_tag(to)\n",
        "print(n)"
      ],
      "metadata": {
        "id": "pTHObbkjnSfF",
        "outputId": "e773c770-bd3d-4af5-da9f-3b02bd49bb7d",
        "colab": {
          "base_uri": "https://localhost:8080/"
        }
      },
      "execution_count": 52,
      "outputs": [
        {
          "output_type": "stream",
          "name": "stdout",
          "text": [
            "[('children', 'NNS'), ('should', 'MD'), (\"n't\", 'RB'), ('as', 'IN'), ('one', 'CD'), ('word', 'NN'), ('drink', 'VB'), ('a', 'DT'), ('sugary', 'JJ'), ('drink', 'NN'), ('before', 'IN'), ('bed', 'NN'), ('.', '.')]\n"
          ]
        },
        {
          "output_type": "stream",
          "name": "stderr",
          "text": [
            "[nltk_data] Downloading package averaged_perceptron_tagger to\n",
            "[nltk_data]     /root/nltk_data...\n",
            "[nltk_data]   Package averaged_perceptron_tagger is already up-to-\n",
            "[nltk_data]       date!\n"
          ]
        }
      ]
    },
    {
      "cell_type": "code",
      "source": [
        "nltk.download('tagsets')\n",
        "nltk.help.upenn_tagset('MD')"
      ],
      "metadata": {
        "id": "yqSSCf8woJqY",
        "outputId": "3965ba60-5cfd-4ecd-be22-cb8e8dfb06b9",
        "colab": {
          "base_uri": "https://localhost:8080/"
        }
      },
      "execution_count": 55,
      "outputs": [
        {
          "output_type": "stream",
          "name": "stdout",
          "text": [
            "MD: modal auxiliary\n",
            "    can cannot could couldn't dare may might must need ought shall should\n",
            "    shouldn't will would\n"
          ]
        },
        {
          "output_type": "stream",
          "name": "stderr",
          "text": [
            "[nltk_data] Downloading package tagsets to /root/nltk_data...\n",
            "[nltk_data]   Package tagsets is already up-to-date!\n"
          ]
        }
      ]
    },
    {
      "cell_type": "code",
      "source": [
        "i=word_tokenize(text12)\n",
        "b=nltk.pos_tag(i)\n",
        "b"
      ],
      "metadata": {
        "id": "HiTZFHpMpHCO",
        "outputId": "edc9831f-8d5c-41e4-8fcd-484c20a65f19",
        "colab": {
          "base_uri": "https://localhost:8080/"
        }
      },
      "execution_count": 59,
      "outputs": [
        {
          "output_type": "execute_result",
          "data": {
            "text/plain": [
              "[('this', 'DT'),\n",
              " ('is', 'VBZ'),\n",
              " ('the', 'DT'),\n",
              " ('first', 'JJ'),\n",
              " ('sentence', 'NN'),\n",
              " ('.', '.'),\n",
              " ('This', 'DT'),\n",
              " ('is', 'VBZ'),\n",
              " ('second', 'JJ'),\n",
              " ('.', '.'),\n",
              " ('This', 'DT'),\n",
              " ('is', 'VBZ'),\n",
              " ('third', 'JJ')]"
            ]
          },
          "metadata": {},
          "execution_count": 59
        }
      ]
    },
    {
      "cell_type": "code",
      "source": [
        "text14=\"Alice loves bob\"\n",
        "tokens=nltk.word_tokenize(text14)\n",
        "print(tokens)"
      ],
      "metadata": {
        "id": "pCrEfA2tpeg_",
        "outputId": "d0694031-20ef-4cea-cc7f-8627b0e23c45",
        "colab": {
          "base_uri": "https://localhost:8080/"
        }
      },
      "execution_count": 60,
      "outputs": [
        {
          "output_type": "stream",
          "name": "stdout",
          "text": [
            "['Alice', 'loves', 'bob']\n"
          ]
        }
      ]
    },
    {
      "cell_type": "code",
      "source": [
        "from nltk.parse.generate import generate, demo_grammar\n",
        "from nltk import CFG\n",
        "g=CFG.fromstring(demo_grammar)\n",
        "print(g)"
      ],
      "metadata": {
        "id": "biTioNzxrH2l",
        "outputId": "74cd14ae-b49e-434b-8492-c169206ee85d",
        "colab": {
          "base_uri": "https://localhost:8080/"
        }
      },
      "execution_count": 63,
      "outputs": [
        {
          "output_type": "stream",
          "name": "stdout",
          "text": [
            "Grammar with 13 productions (start state = S)\n",
            "    S -> NP VP\n",
            "    NP -> Det N\n",
            "    PP -> P NP\n",
            "    VP -> 'slept'\n",
            "    VP -> 'saw' NP\n",
            "    VP -> 'walked' PP\n",
            "    Det -> 'the'\n",
            "    Det -> 'a'\n",
            "    N -> 'man'\n",
            "    N -> 'park'\n",
            "    N -> 'dog'\n",
            "    P -> 'in'\n",
            "    P -> 'with'\n"
          ]
        }
      ]
    },
    {
      "cell_type": "code",
      "source": [
        "for sentence in generate(g,n=4):\n",
        "  print(' '.join(sentence))"
      ],
      "metadata": {
        "id": "AW9jzC0csOXh",
        "outputId": "09ab858b-640a-4dc4-d612-2cc25b3a04a5",
        "colab": {
          "base_uri": "https://localhost:8080/"
        }
      },
      "execution_count": 64,
      "outputs": [
        {
          "output_type": "stream",
          "name": "stdout",
          "text": [
            "the man slept\n",
            "the man saw the man\n",
            "the man saw the park\n",
            "the man saw the dog\n"
          ]
        }
      ]
    },
    {
      "cell_type": "code",
      "source": [
        "for sentence in generate(g,depth=4):\n",
        "  print(' '.join(sentence))"
      ],
      "metadata": {
        "id": "Tn9Bosw_yfMN",
        "outputId": "f8a7c1fc-4fc2-4405-b2d1-04040de4e779",
        "colab": {
          "base_uri": "https://localhost:8080/"
        }
      },
      "execution_count": 70,
      "outputs": [
        {
          "output_type": "stream",
          "name": "stdout",
          "text": [
            "the man slept\n",
            "the park slept\n",
            "the dog slept\n",
            "a man slept\n",
            "a park slept\n",
            "a dog slept\n"
          ]
        }
      ]
    },
    {
      "cell_type": "code",
      "source": [
        "len(list(generate(g,depth=3)))"
      ],
      "metadata": {
        "id": "oFoUGEMLy9yU",
        "outputId": "189230d0-6e68-429e-f992-d2f4fb395169",
        "colab": {
          "base_uri": "https://localhost:8080/"
        }
      },
      "execution_count": 71,
      "outputs": [
        {
          "output_type": "execute_result",
          "data": {
            "text/plain": [
              "0"
            ]
          },
          "metadata": {},
          "execution_count": 71
        }
      ]
    },
    {
      "cell_type": "code",
      "source": [],
      "metadata": {
        "id": "uaL4viKJzcnq"
      },
      "execution_count": null,
      "outputs": []
    }
  ]
}