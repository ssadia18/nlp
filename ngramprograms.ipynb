{
  "nbformat": 4,
  "nbformat_minor": 0,
  "metadata": {
    "colab": {
      "provenance": [],
      "authorship_tag": "ABX9TyNtkVleXJxxWP3ZiqWvHRBf"
    },
    "kernelspec": {
      "name": "python3",
      "display_name": "Python 3"
    },
    "language_info": {
      "name": "python"
    }
  },
  "cells": [
    {
      "cell_type": "code",
      "execution_count": 8,
      "metadata": {
        "colab": {
          "base_uri": "https://localhost:8080/"
        },
        "id": "6iEuDKS80ejz",
        "outputId": "82d0b4c9-5701-4d34-90af-f38e6557fc28"
      },
      "outputs": [
        {
          "output_type": "stream",
          "name": "stdout",
          "text": [
            "enter sentence: my name is naruto uzumaki the future hokage!!\n",
            "trigram:\n",
            "[['my', 'name', 'is'], ['name', 'is', 'naruto'], ['is', 'naruto', 'uzumaki'], ['naruto', 'uzumaki', 'the'], ['uzumaki', 'the', 'future'], ['the', 'future', 'hokage!!']]\n",
            "\n",
            "\n"
          ]
        }
      ],
      "source": [
        "def ngram_model(corpus,n):\n",
        "  words=sentence.split()\n",
        "  output=[]\n",
        "  for i in range (len(words)-n+1):\n",
        "    output.append(words[i:i+n])\n",
        "  return output\n",
        "sentence=input(\"enter sentence: \")\n",
        "print(\"trigram:\")\n",
        "n_gram=ngram_model(sentence,3)\n",
        "print(n_gram)\n",
        "print(\"\\n\")"
      ]
    },
    {
      "cell_type": "code",
      "source": [
        "from nltk import ngrams\n",
        "sentence=input(\"enter sentence: \")\n",
        "uni=ngrams(sentence.split(),1)\n",
        "print(\"unigram\")\n",
        "for g in uni:\n",
        "  print(g)\n",
        "print(\"\\n\")\n",
        "bi=ngrams(sentence.split(),2)\n",
        "tri=ngrams(sentence.split(),3)\n",
        "for g in bi:\n",
        "  print(g)\n",
        "print(\"\\n\")\n",
        "for g in tri:\n",
        "  print(g)\n",
        "print(\"\\n\")"
      ],
      "metadata": {
        "colab": {
          "base_uri": "https://localhost:8080/"
        },
        "id": "HybV06Sf2opb",
        "outputId": "90bce0b5-b5ed-497a-ebec-fe89a8de7c98"
      },
      "execution_count": 17,
      "outputs": [
        {
          "output_type": "stream",
          "name": "stdout",
          "text": [
            "enter sentence: uzumaki naruto dattebayo! my fav is ramen\n",
            "unigram\n",
            "('uzumaki',)\n",
            "('naruto',)\n",
            "('dattebayo!',)\n",
            "('my',)\n",
            "('fav',)\n",
            "('is',)\n",
            "('ramen',)\n",
            "\n",
            "\n",
            "('uzumaki', 'naruto')\n",
            "('naruto', 'dattebayo!')\n",
            "('dattebayo!', 'my')\n",
            "('my', 'fav')\n",
            "('fav', 'is')\n",
            "('is', 'ramen')\n",
            "\n",
            "\n",
            "('uzumaki', 'naruto', 'dattebayo!')\n",
            "('naruto', 'dattebayo!', 'my')\n",
            "('dattebayo!', 'my', 'fav')\n",
            "('my', 'fav', 'is')\n",
            "('fav', 'is', 'ramen')\n",
            "\n",
            "\n"
          ]
        }
      ]
    },
    {
      "cell_type": "code",
      "source": [
        "from collections import defaultdict\n",
        "from nltk.util import ngrams\n",
        "def calculate_ngram_frequency(n_gram):\n",
        "  pair_freq = defaultdict(int)\n",
        "  for pair in n_gram:\n",
        "    pair_freq[pair] += 1\n",
        "  return pair_freq\n",
        "sentence=input(\"Enter the sentence: \")\n",
        "print(\"Uni-gram for given text is\")\n",
        "n_gram = ngrams(sentence.split(), 1)\n",
        "print(n_gram)\n",
        "pair_freq=calculate_ngram_frequency(n_gram)\n",
        "for pair, freq in pair_freq.items():\n",
        "  print (pair, \"->\", freq)\n",
        "print(\"\\n\")"
      ],
      "metadata": {
        "colab": {
          "base_uri": "https://localhost:8080/"
        },
        "id": "pXUPmf2f47_U",
        "outputId": "e292ddd2-23f9-42c5-9a55-e4419238b462"
      },
      "execution_count": 23,
      "outputs": [
        {
          "output_type": "stream",
          "name": "stdout",
          "text": [
            "Enter the sentence: I am happy because\n",
            "Uni-gram for given text is\n",
            "<zip object at 0x78b1806eabc0>\n",
            "('I',) -> 1\n",
            "('am',) -> 1\n",
            "('happy',) -> 1\n",
            "('because',) -> 1\n",
            "\n",
            "\n"
          ]
        }
      ]
    },
    {
      "cell_type": "code",
      "source": [],
      "metadata": {
        "id": "TpJC4wB2-g11"
      },
      "execution_count": null,
      "outputs": []
    }
  ]
}